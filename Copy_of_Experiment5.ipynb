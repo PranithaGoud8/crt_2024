{
  "nbformat": 4,
  "nbformat_minor": 0,
  "metadata": {
    "colab": {
      "provenance": []
    },
    "kernelspec": {
      "name": "python3",
      "display_name": "Python 3"
    },
    "language_info": {
      "name": "python"
    }
  },
  "cells": [
    {
      "cell_type": "code",
      "source": [
        "total_records=10\n",
        "no_golf=4\n",
        "print(\"The unconditional probability of golf is\",no_golf/total_records)\n",
        "no_medrisk=3\n",
        "probability_medrisk=3/10\n",
        "print(\"The probability of medrisk\",probability_medrisk)\n",
        "no_single_medrisk=2\n",
        "probability_single_and_medrisk=no_single_medrisk/total_records\n",
        "print(\"The probability of single and medrisk\", probability_single_and_medrisk)\n",
        "print(\"the probability of single given medrisk\", probability_single_and_medrisk/probability_medrisk)"
      ],
      "metadata": {
        "colab": {
          "base_uri": "https://localhost:8080/"
        },
        "id": "fbQOVHZkOs6d",
        "outputId": "2ba3d055-6b16-4e92-f3f7-28c1bb7f6471"
      },
      "execution_count": null,
      "outputs": [
        {
          "output_type": "stream",
          "name": "stdout",
          "text": [
            "The unconditional probability of golf is 0.4\n",
            "The probability of medrisk 0.3\n",
            "The probability of single and medrisk 0.2\n",
            "the probability of single given medrisk 0.6666666666666667\n"
          ]
        }
      ]
    },
    {
      "cell_type": "code",
      "source": [],
      "metadata": {
        "id": "oD_1O-OyPaZU"
      },
      "execution_count": null,
      "outputs": []
    },
    {
      "cell_type": "code",
      "source": [],
      "metadata": {
        "colab": {
          "base_uri": "https://localhost:8080/"
        },
        "id": "wbhAn6SWPhZY",
        "outputId": "fc35db74-ae94-45d3-ceb4-0792b04f030f"
      },
      "execution_count": null,
      "outputs": [
        {
          "output_type": "stream",
          "name": "stdout",
          "text": [
            "The unconditional probability of golf is 0.4\n"
          ]
        }
      ]
    }
  ]
}